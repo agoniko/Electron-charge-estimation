{
  "nbformat": 4,
  "nbformat_minor": 0,
  "metadata": {
    "colab": {
      "provenance": [],
      "include_colab_link": true
    },
    "kernelspec": {
      "name": "python3",
      "display_name": "Python 3"
    },
    "language_info": {
      "name": "python"
    }
  },
  "cells": [
    {
      "cell_type": "markdown",
      "metadata": {
        "id": "view-in-github",
        "colab_type": "text"
      },
      "source": [
        "<a href=\"https://colab.research.google.com/github/agoniko/Electron-charge-estimation/blob/main/Physics_seminar_presentation.ipynb\" target=\"_parent\"><img src=\"https://colab.research.google.com/assets/colab-badge.svg\" alt=\"Open In Colab\"/></a>"
      ]
    },
    {
      "cell_type": "markdown",
      "source": [
        "#Dataset values\n",
        "---\n",
        "The dataset used is from some students who conducted this experiment in the lab of Università degli studi di Milano. It contains values about the observations of 8 oil drops.\n",
        "Each row of each observation contains the values of the passage of the oil drop on the relative reticle notch. There are 5 reticle notch. <br>\n",
        "The observation values are:\n",
        "*   Time from the start to the passage over the relevant reticle notchin the absence of an electric field\n",
        "*   Time from the start to the passage over the relevant reticle notchin the presence of an electric field when the drop is falling\n",
        "*   Time from the start to the passage over the relevant reticle notch in the presence of an electric field when the drop is rising\n",
        "*   The Voltage of the generator\n",
        "*   The temperature inside the chamber during that observation\n",
        "*   Standard deviations of the first 3 values\n",
        "\n",
        "\n",
        "\n",
        "\n"
      ],
      "metadata": {
        "id": "AWTotv6r3qi2"
      }
    },
    {
      "cell_type": "markdown",
      "source": [
        "## Defining constants\n",
        "<center>\n",
        "<img src=\"https://drive.google.com/uc?id=1PFiC-sJl7qmsvy6IwTw2KJGtsSYFFNXg\" width = 300>\n",
        "</center>\n",
        "\n"
      ],
      "metadata": {
        "id": "O0gRRAfv4Jik"
      }
    },
    {
      "cell_type": "code",
      "source": [
        "#@title\n",
        "#defining constants\n",
        "dist = 5e-4\n",
        "b = 8.2e-3\n",
        "p = 101325\n",
        "g = 9.806\n",
        "diff = 858.707"
      ],
      "metadata": {
        "id": "Ni97KFovj6SC",
        "cellView": "form"
      },
      "execution_count": null,
      "outputs": []
    },
    {
      "cell_type": "markdown",
      "source": [
        "#Oil drop Speed between reticle notches in presence of E\n",
        "The oil drop speed in presence of an electrical field is calculated as the weighted average between the total spent time and the total space traveled for each interval between notches. This is done in order to reduce the uncertainty of the measurement.\n"
      ],
      "metadata": {
        "id": "0yJG3XZE6ehw"
      }
    },
    {
      "cell_type": "markdown",
      "source": [
        "# Speed in absence of E\n",
        "In the absence of an electric field, the falling speeds of the droplet are calculated as before. Then, to obtain a single value of the initial speed, the uncertainties on the measurements are estimated by the method of partial derivatives.\n",
        "<br>\n",
        "<center>\n",
        "<img src=\"https://drive.google.com/uc?id=1vCSfMbijZZLPi42V8FJvmpuz25CVL6q6\">\n",
        "</center>\n",
        "Then, the initial speed is obtained as the weighted average of the speed of the oil drop between the reticle notches on their relative sigma.\n",
        "<center>\n",
        "<img src=\"https://drive.google.com/uc?id=11ZIJwdptVkIZxD6G6WIC07XpfI2J-q3I\" width = \"400\">\n",
        "</center>\n"
      ],
      "metadata": {
        "id": "WaevPhjDyP0z"
      }
    },
    {
      "cell_type": "markdown",
      "source": [
        "# Defining radius function\n",
        "\n",
        "<img src=\"https://drive.google.com/uc?id=1Xbu4SuUQbDBkoHj6n43V28LUW8eKhlyI\" width = 350>\n"
      ],
      "metadata": {
        "id": "z1GoJ9QXvGQb"
      }
    },
    {
      "cell_type": "code",
      "source": [
        "#@title\n",
        "def radius(dataset):\n",
        "  eta = dataset['eta'][0]\n",
        "  vr_list = dataset['v_ri']\n",
        "  #riguarda calcolo raggio\n",
        "\n",
        "  return np.mean([-b/(2*p) + np.sqrt(pow(b/(2*p),2) + ((9*eta*vr)/(2*g*diff))) for vr in vr_list])"
      ],
      "metadata": {
        "id": "pjdkFU4Jh44f",
        "cellView": "form"
      },
      "execution_count": null,
      "outputs": []
    },
    {
      "cell_type": "markdown",
      "source": [
        "#Defining charge function \n",
        "<img src=\"https://drive.google.com/uc?id=13L2RG0ToUlSC7wCJf2wP93hgH0n9fitR\" width = 600>"
      ],
      "metadata": {
        "id": "IW4YJ3Rpsctg"
      }
    },
    {
      "cell_type": "code",
      "source": [
        "#@title\n",
        "\n",
        "def charge1(v, vr, V, d, eta, r):\n",
        "  if v > 0:\n",
        "    q = -4 * np.pi * (r**3) * diff * g * (1 - abs(v) / vr) / (3 * V / d)\n",
        "  else:\n",
        "    q = -4 * np.pi * (r**3) * diff * g * (1 + abs(v) / vr) / (3 * (-V) / d)\n",
        "\n",
        "  return q \n",
        "\n"
      ],
      "metadata": {
        "id": "6LOiZ91zEkxc",
        "cellView": "form"
      },
      "execution_count": null,
      "outputs": []
    },
    {
      "cell_type": "code",
      "source": [
        "#@title Data Preprocessing\n",
        "from google.colab import auth\n",
        "auth.authenticate_user()\n",
        "\n",
        "import gspread\n",
        "from google.auth import default\n",
        "import pandas as pd\n",
        "import numpy as np\n",
        "import matplotlib.pyplot as plt\n",
        "import numpy as np\n",
        "from tqdm import tqdm\n",
        "from scipy.interpolate import interp1d\n",
        "\n",
        "\n",
        "creds, _ = default()\n",
        "gc = gspread.authorize(creds)\n",
        "\n",
        "def get_dataset(drop_number):\n",
        "  #open dataset worksheet from G.drive\n",
        "  worksheet = gc.open(\"dataset\").get_worksheet(2)\n",
        "  rows = worksheet.get_all_values()\n",
        "\n",
        "  #split the drops experiments by -\n",
        "  rows = rows[1:]\n",
        "  indexes = [i for i in range(0,len(rows)) if rows[i][1] == '-']\n",
        "  indexes.insert(0,0)\n",
        "  indexes.append(len(rows))\n",
        "  dataset = [rows[indexes[j]+1:indexes[j+1]] for j in range(0,len(indexes)-1)]\n",
        "  dataset = pd.DataFrame.from_records(dataset[drop_number], columns = rows[0])\n",
        "\n",
        "  #converting the dataframe's cells from string to floats\n",
        "  dataset = pd.DataFrame([dataset[x].str.replace(',','.').astype(float) for x in dataset.columns])\n",
        "  dataset = dataset.T\n",
        "\n",
        "\n",
        "\n",
        "  #Compute absolute time from deltas\n",
        "  dataset['t_f'] = dataset.dt_f\n",
        "  dataset['t_r'] = dataset.dt_r\n",
        "  dataset['t_vr1'] = dataset.t_vr\n",
        "\n",
        "  for i in range(1,len(dataset)):\n",
        "    dataset.t_vr1[i] = dataset.t_vr1[i-1]+dataset.t_vr1[i]\n",
        "\n",
        "  \n",
        "  dataset['v_ri'] = [dist/dataset.t_vr1[i]*(i+1) for i in range(0,len(dataset))]\n",
        "  dataset['sd_vr'] = [np.sqrt(pow(dist * dataset['sd_tvr'][i] / pow(dataset['t_vr'][i],2),2) + pow(1e-5/dataset['t_vr'][i],2)) for i in range(0,len(dataset))]\n",
        "  dataset['vr'] = [sum(dataset['v_ri']/ pow(dataset['sd_vr'],2)) / sum(1/pow(dataset['sd_vr'],2)) for i in range(0,len(dataset))]\n",
        "\n",
        "  worksheet = gc.open(\"dataset\").get_worksheet(3)\n",
        "  rows = worksheet.get_all_values()\n",
        "\n",
        "  R = float(rows[drop_number + 1][2].replace(',','.'))\n",
        "  if drop_number > 1:\n",
        "    T = (R - 2.053)/(2.0 - 2.053) + 24.0\n",
        "  else:\n",
        "    T = (R - 2.053)/(2.053 - 2.11) + 24.0\n",
        "  dataset['eta'] = [((1.8+0.004765*(T-15))/100000) for i in range(0,len(dataset))]\n",
        "  dataset['r'] = [radius(dataset) for i in range(0,len(dataset))]\n",
        "\n",
        "  if drop_number == 7 or drop_number == 6:\n",
        "    dataset = dataset[1:]\n",
        "    dataset.index = np.arange(len(dataset))\n",
        "  \n",
        "  for i in range(1,len(dataset)):\n",
        "    dataset.t_f[i] = dataset.t_f[i-1]+dataset.t_f[i]\n",
        "    dataset.t_r[i] = dataset.t_r[i-1]+dataset.t_r[i]\n",
        "\n",
        "  dataset['v_f'] = [(dist/dataset.t_f[i])*(i+1) for i in range(0,len(dataset))]\n",
        "  dataset['v_r'] = [-(dist/dataset.t_r[i])*(i+1) for i in range(0,len(dataset))]\n",
        "\n",
        "\n",
        "  dataset['V'] = [float(rows[drop_number + 1][0]) for i in range(0,len(dataset))]\n",
        "  dataset['d'] = [float(rows[drop_number + 1][1].replace(',','.')) for i in range(0,len(dataset))]\n",
        "\n",
        "  if drop_number == 1:\n",
        "    dataset['Q_r'] = [charge1(dataset.v_r[i],dataset.vr[i],dataset.V[i]-1.0, dataset.d[i], dataset.eta[i], dataset.r[i]) for i in range(0,len(dataset))]\n",
        "  else:\n",
        "    dataset['Q_r'] = [charge1(dataset.v_r[i],dataset.vr[i],dataset.V[i], dataset.d[i], dataset.eta[i], dataset.r[i]) for i in range(0,len(dataset))]\n",
        "\n",
        "  dataset['Q_f'] = [charge1(dataset.v_f[i],dataset.vr[i],dataset.V[i], dataset.d[i], dataset.eta[i], dataset.r[i]) for i in range(0,len(dataset))]\n",
        "\n",
        "  return dataset\n",
        "\n",
        "dataset = get_dataset(0)\n",
        "dataset.loc[:,['t_vr', 'dt_f', 'dt_r', 't_f', 't_r', 'vr', 'eta', 'r', 'v_f', 'v_r', 'V','Q_r', 'Q_f']]"
      ],
      "metadata": {
        "id": "-apws_xxDsmG",
        "colab": {
          "base_uri": "https://localhost:8080/",
          "height": 206
        },
        "outputId": "2750a22c-aae6-40f6-fb67-013917d759ff",
        "cellView": "form"
      },
      "execution_count": null,
      "outputs": [
        {
          "output_type": "execute_result",
          "data": {
            "text/plain": [
              "    t_vr  dt_f  dt_r    t_f    t_r        vr       eta             r  \\\n",
              "0  64.89  1.82  3.18   1.82   3.18  0.000007  0.000018  2.258044e-07   \n",
              "1  74.26  1.62  2.70   3.44   5.88  0.000007  0.000018  2.258044e-07   \n",
              "2  82.45  2.70  3.21   6.14   9.09  0.000007  0.000018  2.258044e-07   \n",
              "3  69.46  2.54  3.16   8.68  12.25  0.000007  0.000018  2.258044e-07   \n",
              "4  81.10  2.48  3.23  11.16  15.48  0.000007  0.000018  2.258044e-07   \n",
              "\n",
              "        v_f       v_r      V           Q_r           Q_f  \n",
              "0  0.000275 -0.000157  553.0  1.309724e-19  2.135095e-19  \n",
              "1  0.000291 -0.000170  553.0  1.412084e-19  2.262473e-19  \n",
              "2  0.000244 -0.000165  553.0  1.371799e-19  1.892454e-19  \n",
              "3  0.000230 -0.000163  553.0  1.357833e-19  1.781723e-19  \n",
              "4  0.000224 -0.000161  553.0  1.343745e-19  1.730681e-19  "
            ],
            "text/html": [
              "\n",
              "  <div id=\"df-48b689d0-dd83-41b4-ad1f-a956451b0a44\">\n",
              "    <div class=\"colab-df-container\">\n",
              "      <div>\n",
              "<style scoped>\n",
              "    .dataframe tbody tr th:only-of-type {\n",
              "        vertical-align: middle;\n",
              "    }\n",
              "\n",
              "    .dataframe tbody tr th {\n",
              "        vertical-align: top;\n",
              "    }\n",
              "\n",
              "    .dataframe thead th {\n",
              "        text-align: right;\n",
              "    }\n",
              "</style>\n",
              "<table border=\"1\" class=\"dataframe\">\n",
              "  <thead>\n",
              "    <tr style=\"text-align: right;\">\n",
              "      <th></th>\n",
              "      <th>t_vr</th>\n",
              "      <th>dt_f</th>\n",
              "      <th>dt_r</th>\n",
              "      <th>t_f</th>\n",
              "      <th>t_r</th>\n",
              "      <th>vr</th>\n",
              "      <th>eta</th>\n",
              "      <th>r</th>\n",
              "      <th>v_f</th>\n",
              "      <th>v_r</th>\n",
              "      <th>V</th>\n",
              "      <th>Q_r</th>\n",
              "      <th>Q_f</th>\n",
              "    </tr>\n",
              "  </thead>\n",
              "  <tbody>\n",
              "    <tr>\n",
              "      <th>0</th>\n",
              "      <td>64.89</td>\n",
              "      <td>1.82</td>\n",
              "      <td>3.18</td>\n",
              "      <td>1.82</td>\n",
              "      <td>3.18</td>\n",
              "      <td>0.000007</td>\n",
              "      <td>0.000018</td>\n",
              "      <td>2.258044e-07</td>\n",
              "      <td>0.000275</td>\n",
              "      <td>-0.000157</td>\n",
              "      <td>553.0</td>\n",
              "      <td>1.309724e-19</td>\n",
              "      <td>2.135095e-19</td>\n",
              "    </tr>\n",
              "    <tr>\n",
              "      <th>1</th>\n",
              "      <td>74.26</td>\n",
              "      <td>1.62</td>\n",
              "      <td>2.70</td>\n",
              "      <td>3.44</td>\n",
              "      <td>5.88</td>\n",
              "      <td>0.000007</td>\n",
              "      <td>0.000018</td>\n",
              "      <td>2.258044e-07</td>\n",
              "      <td>0.000291</td>\n",
              "      <td>-0.000170</td>\n",
              "      <td>553.0</td>\n",
              "      <td>1.412084e-19</td>\n",
              "      <td>2.262473e-19</td>\n",
              "    </tr>\n",
              "    <tr>\n",
              "      <th>2</th>\n",
              "      <td>82.45</td>\n",
              "      <td>2.70</td>\n",
              "      <td>3.21</td>\n",
              "      <td>6.14</td>\n",
              "      <td>9.09</td>\n",
              "      <td>0.000007</td>\n",
              "      <td>0.000018</td>\n",
              "      <td>2.258044e-07</td>\n",
              "      <td>0.000244</td>\n",
              "      <td>-0.000165</td>\n",
              "      <td>553.0</td>\n",
              "      <td>1.371799e-19</td>\n",
              "      <td>1.892454e-19</td>\n",
              "    </tr>\n",
              "    <tr>\n",
              "      <th>3</th>\n",
              "      <td>69.46</td>\n",
              "      <td>2.54</td>\n",
              "      <td>3.16</td>\n",
              "      <td>8.68</td>\n",
              "      <td>12.25</td>\n",
              "      <td>0.000007</td>\n",
              "      <td>0.000018</td>\n",
              "      <td>2.258044e-07</td>\n",
              "      <td>0.000230</td>\n",
              "      <td>-0.000163</td>\n",
              "      <td>553.0</td>\n",
              "      <td>1.357833e-19</td>\n",
              "      <td>1.781723e-19</td>\n",
              "    </tr>\n",
              "    <tr>\n",
              "      <th>4</th>\n",
              "      <td>81.10</td>\n",
              "      <td>2.48</td>\n",
              "      <td>3.23</td>\n",
              "      <td>11.16</td>\n",
              "      <td>15.48</td>\n",
              "      <td>0.000007</td>\n",
              "      <td>0.000018</td>\n",
              "      <td>2.258044e-07</td>\n",
              "      <td>0.000224</td>\n",
              "      <td>-0.000161</td>\n",
              "      <td>553.0</td>\n",
              "      <td>1.343745e-19</td>\n",
              "      <td>1.730681e-19</td>\n",
              "    </tr>\n",
              "  </tbody>\n",
              "</table>\n",
              "</div>\n",
              "      <button class=\"colab-df-convert\" onclick=\"convertToInteractive('df-48b689d0-dd83-41b4-ad1f-a956451b0a44')\"\n",
              "              title=\"Convert this dataframe to an interactive table.\"\n",
              "              style=\"display:none;\">\n",
              "        \n",
              "  <svg xmlns=\"http://www.w3.org/2000/svg\" height=\"24px\"viewBox=\"0 0 24 24\"\n",
              "       width=\"24px\">\n",
              "    <path d=\"M0 0h24v24H0V0z\" fill=\"none\"/>\n",
              "    <path d=\"M18.56 5.44l.94 2.06.94-2.06 2.06-.94-2.06-.94-.94-2.06-.94 2.06-2.06.94zm-11 1L8.5 8.5l.94-2.06 2.06-.94-2.06-.94L8.5 2.5l-.94 2.06-2.06.94zm10 10l.94 2.06.94-2.06 2.06-.94-2.06-.94-.94-2.06-.94 2.06-2.06.94z\"/><path d=\"M17.41 7.96l-1.37-1.37c-.4-.4-.92-.59-1.43-.59-.52 0-1.04.2-1.43.59L10.3 9.45l-7.72 7.72c-.78.78-.78 2.05 0 2.83L4 21.41c.39.39.9.59 1.41.59.51 0 1.02-.2 1.41-.59l7.78-7.78 2.81-2.81c.8-.78.8-2.07 0-2.86zM5.41 20L4 18.59l7.72-7.72 1.47 1.35L5.41 20z\"/>\n",
              "  </svg>\n",
              "      </button>\n",
              "      \n",
              "  <style>\n",
              "    .colab-df-container {\n",
              "      display:flex;\n",
              "      flex-wrap:wrap;\n",
              "      gap: 12px;\n",
              "    }\n",
              "\n",
              "    .colab-df-convert {\n",
              "      background-color: #E8F0FE;\n",
              "      border: none;\n",
              "      border-radius: 50%;\n",
              "      cursor: pointer;\n",
              "      display: none;\n",
              "      fill: #1967D2;\n",
              "      height: 32px;\n",
              "      padding: 0 0 0 0;\n",
              "      width: 32px;\n",
              "    }\n",
              "\n",
              "    .colab-df-convert:hover {\n",
              "      background-color: #E2EBFA;\n",
              "      box-shadow: 0px 1px 2px rgba(60, 64, 67, 0.3), 0px 1px 3px 1px rgba(60, 64, 67, 0.15);\n",
              "      fill: #174EA6;\n",
              "    }\n",
              "\n",
              "    [theme=dark] .colab-df-convert {\n",
              "      background-color: #3B4455;\n",
              "      fill: #D2E3FC;\n",
              "    }\n",
              "\n",
              "    [theme=dark] .colab-df-convert:hover {\n",
              "      background-color: #434B5C;\n",
              "      box-shadow: 0px 1px 3px 1px rgba(0, 0, 0, 0.15);\n",
              "      filter: drop-shadow(0px 1px 2px rgba(0, 0, 0, 0.3));\n",
              "      fill: #FFFFFF;\n",
              "    }\n",
              "  </style>\n",
              "\n",
              "      <script>\n",
              "        const buttonEl =\n",
              "          document.querySelector('#df-48b689d0-dd83-41b4-ad1f-a956451b0a44 button.colab-df-convert');\n",
              "        buttonEl.style.display =\n",
              "          google.colab.kernel.accessAllowed ? 'block' : 'none';\n",
              "\n",
              "        async function convertToInteractive(key) {\n",
              "          const element = document.querySelector('#df-48b689d0-dd83-41b4-ad1f-a956451b0a44');\n",
              "          const dataTable =\n",
              "            await google.colab.kernel.invokeFunction('convertToInteractive',\n",
              "                                                     [key], {});\n",
              "          if (!dataTable) return;\n",
              "\n",
              "          const docLinkHtml = 'Like what you see? Visit the ' +\n",
              "            '<a target=\"_blank\" href=https://colab.research.google.com/notebooks/data_table.ipynb>data table notebook</a>'\n",
              "            + ' to learn more about interactive tables.';\n",
              "          element.innerHTML = '';\n",
              "          dataTable['output_type'] = 'display_data';\n",
              "          await google.colab.output.renderOutput(dataTable, element);\n",
              "          const docLink = document.createElement('div');\n",
              "          docLink.innerHTML = docLinkHtml;\n",
              "          element.appendChild(docLink);\n",
              "        }\n",
              "      </script>\n",
              "    </div>\n",
              "  </div>\n",
              "  "
            ]
          },
          "metadata": {},
          "execution_count": 4
        }
      ]
    },
    {
      "cell_type": "markdown",
      "source": [
        "#Estimate K value of each charge using the MSE function\n",
        "We now want to estimate an integer number (Ki) of elementary charges, electrons, on each of the drops. To determine this integer number we need to know a rough estimate of the electron charge, which is estimated as the value that minimize the mean squared error introduced by the formula:\n",
        "<center><img src=\"https://drive.google.com/uc?id=1UU400fvJ8CtgJaMgr435NK-X4IAsN_Yl \" width = \"250\"></center>\n",
        "Where Qi represents the total charge present on each drop and ki(q) is defined as follows:\n",
        "\n",
        "<center><img src=\"https://drive.google.com/uc?id=1ySHXVj1WsobEbbstoN9EUu2a6qu7Wb1B\" width = \"200\"></center>\n",
        "\n",
        "q is then made to vary within an interval identified as [1.5E-19 C, 1.7E-19 C] with a single step of 0.001e-19 C in order to find that value of q that would minimize the function S(q)\n",
        "<br>\n",
        "<br>"
      ],
      "metadata": {
        "id": "084M2wSuXAz3"
      }
    },
    {
      "cell_type": "code",
      "source": [
        "#@title Now we perform this process on the data obtained from all observations:\n",
        "import math\n",
        "def get_k(Qi,q):\n",
        "  return math.trunc(Qi/q + 0.5)\n",
        "\n",
        "def Sq(Q,q):\n",
        "  return sum([((qi/get_k(qi,q)) - q)**2 for qi in Q])\n",
        "  \n",
        "indexes = np.arange(8)\n",
        "frames = []\n",
        "for i in tqdm(indexes):\n",
        "  dataset = get_dataset(i)\n",
        "  frames.append(dataset)\n",
        " \n",
        "all_values = pd.concat(frames)\n",
        "all_values.index = np.arange(len(all_values))\n",
        "\n",
        "charges = np.array(list(all_values.Q_f.tolist() + all_values.Q_r.tolist()))\n",
        "xrange = np.arange(1.525e-19, 1.7e-19, 0.001e-19)\n",
        "Ks = set([get_k(x,y) for x in charges for y in xrange])\n",
        "S = [Sq(charges,x) for x in xrange]\n",
        "e = min(xrange[np.where(S==min(S))])\n",
        "\n",
        "#create interpolation of the S(q) curve\n",
        "x = np.linspace(1.525e-19, 1.7e-19, 5)\n",
        "S_inter = [Sq(charges,xi) for xi in x]\n",
        "f1 = interp1d(x, S_inter, kind = 'quadratic')\n",
        "x_new = np.linspace(1.525e-19, 1.7e-19, 176)\n",
        "rounded_e = x_new[np.where(f1(x_new) == min(f1(x_new)))]\n",
        "\n",
        "\n",
        "\n",
        "f, ax = plt.subplots(1,2,figsize = (20,5))\n",
        "ax[0].plot(xrange, S, '-', e ,min(S),'.',markersize=25)\n",
        "ax[0].legend([\"S(q) values as q varies\",\"min value of S(q)\"])\n",
        "\n",
        "ax[1].plot(x_new, f1(x_new),rounded_e, min(f1(x_new)),'.', markersize = 20)\n",
        "ax[1].legend([\"Quadratic interpolation of the S(q) values as q varies\",\"min value of the quadratic interpolation of S(q)\"])\n",
        "\n",
        "plt.show()\n",
        "print(\"The value q that minimize the S(q) function is:\", str(round(e,22)) + \" C\")\n",
        "#lo scarto q.m. dovrebbe essere una parabola, qui ho il salti dovuti al troncamento al valore intero di K"
      ],
      "metadata": {
        "colab": {
          "base_uri": "https://localhost:8080/",
          "height": 379
        },
        "id": "wSNaBDsSvW7S",
        "outputId": "6f9ac907-0bbb-4bac-e343-531640045e2c",
        "cellView": "form"
      },
      "execution_count": null,
      "outputs": [
        {
          "output_type": "stream",
          "name": "stderr",
          "text": [
            "100%|██████████| 8/8 [00:10<00:00,  1.28s/it]\n"
          ]
        },
        {
          "output_type": "display_data",
          "data": {
            "text/plain": [
              "<Figure size 1440x360 with 2 Axes>"
            ],
            "image/png": "[encoded data removed]"
          },
          "metadata": {
            "needs_background": "light"
          }
        },
        {
          "output_type": "stream",
          "name": "stdout",
          "text": [
            "The value q that minimize the S(q) function is: 1.593e-19 C\n"
          ]
        }
      ]
    },
    {
      "cell_type": "markdown",
      "source": [
        "#Charges clustered around their K value\n",
        "Once we have found q, we calculate the K value of each charge by dividing each charge by q.<br>\n",
        "The following histogram takes some sample charges and devides them by the q value estimated, we can see that the charges are then clustered around their K value."
      ],
      "metadata": {
        "id": "ahLvCq0a1B3Y"
      }
    },
    {
      "cell_type": "code",
      "source": [
        "#@title\n",
        "f, ax = plt.subplots(figsize=(15, 5),sharey=True, tight_layout=True)\n",
        "xrange = np.arange(1.525e-19, 1.7e-19, 0.001e-19)\n",
        "cont = 0\n",
        "colors = [\"blue\", \"green\", \"red\", \"cyan\", \"magenta\", \"yellow\", \"black\"]\n",
        "qe = []\n",
        "K = []\n",
        "indexes = [0,3,4]\n",
        "cont = 0\n",
        "charges = []\n",
        "for i in indexes:\n",
        "  charges.append(np.array(list(frames[i].Q_f.tolist() + frames[i].Q_r.tolist())))\n",
        "\n",
        "charges = np.array([x[i] for x in charges for i in range(0,len(x))])\n",
        "\n",
        "S = [Sq(charges,x) for x in xrange]\n",
        "print()\n",
        "Ks = [get_k(x,e) for x in charges]\n",
        "K.append(Ks)\n",
        "qe.append(charges)\n",
        "\n",
        "unique_K = np.array(list(set(Ks)))\n",
        "l = []\n",
        "for k in range(0,len(unique_K)):\n",
        "  ax.hist(charges[np.where(Ks == unique_K[k])]/e , color = colors[k], bins = 50)\n",
        "  ax.set(xticks=np.arange(0,6,.5))\n",
        "  l.append(\"K = \" + str(unique_K[k]))\n",
        "\n",
        "ax.legend(l)\n",
        "cont+=1\n",
        "\n",
        "for cont in np.arange(8):\n",
        "  charges = np.array(list(frames[cont].Q_f.tolist() + frames[cont].Q_r.tolist()))\n",
        "  S = [Sq(charges,x) for x in xrange]\n",
        "  Ks = [get_k(x,e) for x in charges]\n",
        "  K.append(Ks)\n",
        "  qe.append(charges)\n",
        "\n",
        "K = [x[i] for x in K for i in range(0,len(x))]\n",
        "qe = [x[i] for x in qe for i in range(0,len(x))]"
      ],
      "metadata": {
        "colab": {
          "base_uri": "https://localhost:8080/",
          "height": 386
        },
        "id": "yVM7yHKavsRY",
        "outputId": "2835c233-ded0-4906-c668-f031029b4cc7",
        "cellView": "form"
      },
      "execution_count": null,
      "outputs": [
        {
          "output_type": "stream",
          "name": "stdout",
          "text": [
            "\n"
          ]
        },
        {
          "output_type": "display_data",
          "data": {
            "text/plain": [
              "<Figure size 1080x360 with 1 Axes>"
            ],
            "image/png": "[encoded data removed]"
          },
          "metadata": {
            "needs_background": "light"
          }
        }
      ]
    },
    {
      "cell_type": "markdown",
      "source": [
        "#Results\n",
        "Estimates for each elementary charge are obtained by dividing the Qi estimated in the previous step by the corresponding value of Ki.<br>\n",
        "As the best estimate of e I took the average of the quantities just illustrated, while as uncertainty I took the standard deviation on the mean of the sample of measurements.\n",
        "\n",
        "The estimated value for e is 1.595e-19 C with a s.d. of 0.02e-19 C with a relative uncertainty of 1.058% and 0.466σ away from the accepted expected value (2004 measurement) of 1.60217653(14)E-19 C."
      ],
      "metadata": {
        "id": "aGlzZq5larKz"
      }
    },
    {
      "cell_type": "code",
      "source": [
        "#@title\n",
        "mu = 1.60217653E-19\n",
        "q = [qe[i]/K[i] for i in range(0,len(qe))]\n",
        "std = (np.std(q)/np.sqrt(len(q)))\n",
        "print(\"Uncertainty: \"+str(round(std / np.mean(q)*100,3)) + \"%\")\n",
        "print(\"Distance from expected value: \"+str(round((mu - np.mean(q))/std,3))+ \"σ\")\n"
      ],
      "metadata": {
        "id": "sei1PXfMRFY1",
        "cellView": "form",
        "colab": {
          "base_uri": "https://localhost:8080/"
        },
        "outputId": "59896903-2bd4-4158-b940-ff59c199ea64"
      },
      "execution_count": null,
      "outputs": [
        {
          "output_type": "stream",
          "name": "stdout",
          "text": [
            "Uncertainty: 1.013%\n",
            "Distance from expected value: 0.466σ\n"
          ]
        }
      ]
    }
  ]
}